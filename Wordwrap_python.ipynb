{
 "cells": [
  {
   "cell_type": "code",
   "execution_count": 39,
   "metadata": {},
   "outputs": [
    {
     "name": "stdout",
     "output_type": "stream",
     "text": [
      "I'm from\n",
      "the\n",
      "Universi\n",
      "ty of\n",
      "Toledo\n",
      "and\n",
      "proficie\n",
      "nt in\n",
      "Java and\n",
      "Python.\n",
      "\n"
     ]
    }
   ],
   "source": [
    "def wordwrap(text, count):\n",
    "    text_list = text.split(' ')\n",
    "    row_length=count\n",
    "    remaining_space = count\n",
    "    temp_list = []\n",
    "    used_space = 0\n",
    "    final_list = []\n",
    "    for word in text_list:\n",
    "        length = len(word)\n",
    "        if(length>row_length):\n",
    "            if(remaining_space<row_length):\n",
    "                final_list.append(' '.join(temp_list))\n",
    "                (remaining_space,used_space,temp_list) = initialize(row_length)\n",
    "            loops = int(length/count)\n",
    "            check = length%count\n",
    "            if(check==0):\n",
    "                loops-=1\n",
    "            for loop in range(loops):\n",
    "                final_list.append(word[((loop)*row_length):((loop+1)*row_length)])\n",
    "            temp_list.append(word[((loop+1)*row_length):])\n",
    "            used_space += (len(temp_list[0])+1)\n",
    "            remaining_space = row_length - used_space\n",
    "            if(remaining_space <= 0):\n",
    "                final_list.append(' '.join(temp_list))\n",
    "                (remaining_space,used_space,temp_list) = initialize(row_length)\n",
    "        elif(length<=remaining_space):\n",
    "            temp_list.append(word)\n",
    "            used_space+=(length+1)\n",
    "            remaining_space = row_length - used_space\n",
    "            if(remaining_space<=0):\n",
    "                final_list.append(' '.join(temp_list))\n",
    "                (remaining_space,used_space,temp_list) = initialize(row_length)\n",
    "        else:\n",
    "            final_list.append(' '.join(temp_list))\n",
    "            (remaining_space,used_space,temp_list) = initialize(row_length)\n",
    "            temp_list.append(word)\n",
    "            used_space+=(length+1)\n",
    "            remaining_space = row_length - used_space\n",
    "            if(remaining_space<=0):\n",
    "                final_list.append(' '.join(temp_list))\n",
    "                (remaining_space,used_space,temp_list) = initialize(row_length)\n",
    "    final_list.append(' '.join(temp_list))    \n",
    "    return final_list    \n",
    "\n",
    "def initialize(num):\n",
    "    remaining_space = num\n",
    "    used_space = 0\n",
    "    temp_list = []\n",
    "    \n",
    "    return (remaining_space,used_space,temp_list)\n",
    "\n",
    "para = wordwrap(\"I'm from the University of Toledo and proficient in Java and Python.\", 8)\n",
    "for line in para:\n",
    "    print(line)"
   ]
  }
 ],
 "metadata": {
  "kernelspec": {
   "display_name": "Python 3",
   "language": "python",
   "name": "python3"
  },
  "language_info": {
   "codemirror_mode": {
    "name": "ipython",
    "version": 3
   },
   "file_extension": ".py",
   "mimetype": "text/x-python",
   "name": "python",
   "nbconvert_exporter": "python",
   "pygments_lexer": "ipython3",
   "version": "3.6.4"
  }
 },
 "nbformat": 4,
 "nbformat_minor": 2
}
